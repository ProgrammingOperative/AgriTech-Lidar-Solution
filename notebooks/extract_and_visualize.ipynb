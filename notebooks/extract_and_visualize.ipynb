{
 "cells": [
  {
   "cell_type": "markdown",
   "metadata": {},
   "source": [
    "### FETCHING DATA WITH AgriTechLidar"
   ]
  },
  {
   "cell_type": "code",
   "execution_count": 20,
   "metadata": {},
   "outputs": [
    {
     "name": "stdout",
     "output_type": "stream",
     "text": [
      "hello\n"
     ]
    }
   ],
   "source": [
    "print(\"hello\")"
   ]
  },
  {
   "cell_type": "code",
   "execution_count": 21,
   "metadata": {},
   "outputs": [],
   "source": [
    "sys.path.append(os.path.abspath(os.path.join('../scripts')))"
   ]
  },
  {
   "cell_type": "code",
   "execution_count": 22,
   "metadata": {},
   "outputs": [],
   "source": [
    "from agritechlidar import AgriTechLidar"
   ]
  },
  {
   "cell_type": "code",
   "execution_count": 23,
   "metadata": {},
   "outputs": [],
   "source": [
    "import matplotlib.pyplot as plt\n",
    "from shapely.geometry import Polygon"
   ]
  },
  {
   "cell_type": "markdown",
   "metadata": {},
   "source": [
    "#### Initialize package class with the required spatial reference system"
   ]
  },
  {
   "cell_type": "code",
   "execution_count": 25,
   "metadata": {},
   "outputs": [
    {
     "ename": "TypeError",
     "evalue": "GpdHelper.__init__() takes 1 positional argument but 3 were given",
     "output_type": "error",
     "traceback": [
      "\u001b[0;31m---------------------------------------------------------------------------\u001b[0m",
      "\u001b[0;31mTypeError\u001b[0m                                 Traceback (most recent call last)",
      "\u001b[1;32m/home/wacira/10 Academy/week 7/Github/AgriTech-Lidar-Solution/notebooks/extract_and_visualize.ipynb Cell 7'\u001b[0m in \u001b[0;36m<cell line: 1>\u001b[0;34m()\u001b[0m\n\u001b[0;32m----> <a href='vscode-notebook-cell:/home/wacira/10%20Academy/week%207/Github/AgriTech-Lidar-Solution/notebooks/extract_and_visualize.ipynb#ch0000006?line=0'>1</a>\u001b[0m pl \u001b[39m=\u001b[39m AgriTechLidar(epsg\u001b[39m=\u001b[39;49m\u001b[39m4326\u001b[39;49m)\n",
      "File \u001b[0;32m~/10 Academy/week 7/Github/AgriTech-Lidar-Solution/scripts/agritechlidar.py:12\u001b[0m, in \u001b[0;36mAgriTechLidar.__init__\u001b[0;34m(self, epsg)\u001b[0m\n\u001b[1;32m     10\u001b[0m \u001b[39mself\u001b[39m\u001b[39m.\u001b[39minput_epsg \u001b[39m=\u001b[39m \u001b[39m3857\u001b[39m\n\u001b[1;32m     11\u001b[0m \u001b[39mself\u001b[39m\u001b[39m.\u001b[39moutput_epsg \u001b[39m=\u001b[39m epsg\n\u001b[0;32m---> 12\u001b[0m \u001b[39mself\u001b[39m\u001b[39m.\u001b[39mfetch_data \u001b[39m=\u001b[39m FetchLidar(\u001b[39mself\u001b[39;49m\u001b[39m.\u001b[39;49moutput_epsg)\n",
      "File \u001b[0;32m~/10 Academy/week 7/Github/AgriTech-Lidar-Solution/scripts/fetch_lidar.py:14\u001b[0m, in \u001b[0;36mFetchLidar.__init__\u001b[0;34m(self, epsg)\u001b[0m\n\u001b[1;32m     12\u001b[0m \u001b[39mself\u001b[39m\u001b[39m.\u001b[39m_input_epsg \u001b[39m=\u001b[39m \u001b[39m3857\u001b[39m\n\u001b[1;32m     13\u001b[0m \u001b[39mself\u001b[39m\u001b[39m.\u001b[39moutput_epsg \u001b[39m=\u001b[39m epsg\n\u001b[0;32m---> 14\u001b[0m \u001b[39mself\u001b[39m\u001b[39m.\u001b[39m_gdf_helper \u001b[39m=\u001b[39m GpdHelper(\u001b[39mself\u001b[39;49m\u001b[39m.\u001b[39;49m_input_epsg, \u001b[39mself\u001b[39;49m\u001b[39m.\u001b[39;49moutput_epsg)\n",
      "\u001b[0;31mTypeError\u001b[0m: GpdHelper.__init__() takes 1 positional argument but 3 were given"
     ]
    }
   ],
   "source": [
    "pl = AgriTechLidar(epsg=4326)"
   ]
  },
  {
   "cell_type": "markdown",
   "metadata": {},
   "source": [
    "#### Fetch data"
   ]
  },
  {
   "cell_type": "code",
   "execution_count": null,
   "metadata": {},
   "outputs": [],
   "source": [
    "MINX, MINY, MAXX, MAXY = [-93.756155, 41.918015, -93.747334, 41.921429]\n",
    "polygon = Polygon(((MINX, MINY), (MINX, MAXY), (MAXX, MAXY), (MAXX, MINY), (MINX, MINY)))"
   ]
  },
  {
   "cell_type": "code",
   "execution_count": null,
   "metadata": {},
   "outputs": [],
   "source": [
    "#Return the geopandas dataframe consisting of geometric points and elavation\n",
    "gdf = pl.fetch_lidar(polygon, [\"IA_FullState\"])\n",
    "gdf"
   ]
  },
  {
   "cell_type": "markdown",
   "metadata": {},
   "source": [
    "#### Data Visualization"
   ]
  },
  {
   "cell_type": "code",
   "execution_count": null,
   "metadata": {},
   "outputs": [],
   "source": [
    "## Instantiate a visualization object\n",
    "df = gdf['geo_data']\n",
    "vis = pl.render_vis(df)\n",
    "\n",
    "\n",
    "# Plot heatmap example\n",
    "vis.plot_heatmap(\"IA_FullStat\")\n",
    "\n",
    "\n",
    "#Plot 3D example\n",
    "vis.plot_3d()\n"
   ]
  },
  {
   "cell_type": "code",
   "execution_count": null,
   "metadata": {},
   "outputs": [
    {
     "ename": "",
     "evalue": "",
     "output_type": "error",
     "traceback": [
      "\u001b[1;31mFailed to start the Kernel. \n",
      "Traceback (most recent call last):\n",
      "  File \"/home/wacira/.vscode/extensions/ms-toolsai.jupyter-2022.5.1001601848/pythonFiles/vscode_datascience_helpers/jupyter_daemon.py\", line 158, in _start_notebook\n",
      "    from notebook import notebookapp as app\n",
      "  File \"/home/wacira/anaconda3/envs/data_engineering/lib/python3.10/site-packages/notebook/notebookapp.py\", line 43, in <module>\n",
      "    from jinja2 import Environment, FileSystemLoader\n",
      "  File \"/home/wacira/.local/lib/python3.10/site-packages/jinja2/__init__.py\", line 8, in <module>\n",
      "    from .environment import Environment as Environment\n",
      "  File \"/home/wacira/.local/lib/python3.10/site-packages/jinja2/environment.py\", line 14, in <module>\n",
      "    from markupsafe import Markup\n",
      "ModuleNotFoundError: No module named 'markupsafe'\n",
      "\n",
      "During handling of the above exception, another exception occurred:\n",
      "\n",
      "Traceback (most recent call last):\n",
      "  File \"/home/wacira/.vscode/extensions/ms-toolsai.jupyter-2022.5.1001601848/pythonFiles/vscode_datascience_helpers/daemon/daemon_python.py\", line 54, in _decorator\n",
      "    return func(self, *args, **kwargs)\n",
      "  File \"/home/wacira/.vscode/extensions/ms-toolsai.jupyter-2022.5.1001601848/pythonFiles/vscode_datascience_helpers/jupyter_daemon.py\", line 111, in m_exec_module_observable\n",
      "    self._start_notebook(args, cwd, env)\n",
      "  File \"/home/wacira/.vscode/extensions/ms-toolsai.jupyter-2022.5.1001601848/pythonFiles/vscode_datascience_helpers/jupyter_daemon.py\", line 160, in _start_notebook\n",
      "    from notebook import app as app\n",
      "ImportError: cannot import name 'app' from 'notebook' (/home/wacira/anaconda3/envs/data_engineering/lib/python3.10/site-packages/notebook/__init__.py)\n",
      "\n",
      "Failed to run jupyter as observable with args notebook --no-browser --notebook-dir=\"/home/wacira/10 Academy/week 7/Github/AgriTech-Lidar-Solution/notebooks\" --config=/tmp/46188340-3e5f-4537-8257-a1eebdd1cbb4/jupyter_notebook_config.py --NotebookApp.iopub_data_rate_limit=10000000000.0. \n",
      "View Jupyter <a href='command:jupyter.viewOutput'>log</a> for further details."
     ]
    }
   ],
   "source": [
    "## Instantiate a visualization object\n",
    "df = gdf['geo_data']\n",
    "vis = pl.render_vis(df)"
   ]
  },
  {
   "cell_type": "markdown",
   "metadata": {},
   "source": [
    "#### Plot heatmap"
   ]
  },
  {
   "cell_type": "code",
   "execution_count": null,
   "metadata": {},
   "outputs": [
    {
     "ename": "",
     "evalue": "",
     "output_type": "error",
     "traceback": [
      "\u001b[1;31mFailed to start the Kernel. \n",
      "Traceback (most recent call last):\n",
      "  File \"/home/wacira/.vscode/extensions/ms-toolsai.jupyter-2022.5.1001601848/pythonFiles/vscode_datascience_helpers/jupyter_daemon.py\", line 158, in _start_notebook\n",
      "    from notebook import notebookapp as app\n",
      "  File \"/home/wacira/anaconda3/envs/data_engineering/lib/python3.10/site-packages/notebook/notebookapp.py\", line 43, in <module>\n",
      "    from jinja2 import Environment, FileSystemLoader\n",
      "  File \"/home/wacira/.local/lib/python3.10/site-packages/jinja2/__init__.py\", line 8, in <module>\n",
      "    from .environment import Environment as Environment\n",
      "  File \"/home/wacira/.local/lib/python3.10/site-packages/jinja2/environment.py\", line 14, in <module>\n",
      "    from markupsafe import Markup\n",
      "ModuleNotFoundError: No module named 'markupsafe'\n",
      "\n",
      "During handling of the above exception, another exception occurred:\n",
      "\n",
      "Traceback (most recent call last):\n",
      "  File \"/home/wacira/.vscode/extensions/ms-toolsai.jupyter-2022.5.1001601848/pythonFiles/vscode_datascience_helpers/daemon/daemon_python.py\", line 54, in _decorator\n",
      "    return func(self, *args, **kwargs)\n",
      "  File \"/home/wacira/.vscode/extensions/ms-toolsai.jupyter-2022.5.1001601848/pythonFiles/vscode_datascience_helpers/jupyter_daemon.py\", line 111, in m_exec_module_observable\n",
      "    self._start_notebook(args, cwd, env)\n",
      "  File \"/home/wacira/.vscode/extensions/ms-toolsai.jupyter-2022.5.1001601848/pythonFiles/vscode_datascience_helpers/jupyter_daemon.py\", line 160, in _start_notebook\n",
      "    from notebook import app as app\n",
      "ImportError: cannot import name 'app' from 'notebook' (/home/wacira/anaconda3/envs/data_engineering/lib/python3.10/site-packages/notebook/__init__.py)\n",
      "\n",
      "Failed to run jupyter as observable with args notebook --no-browser --notebook-dir=\"/home/wacira/10 Academy/week 7/Github/AgriTech-Lidar-Solution/notebooks\" --config=/tmp/83c746ac-2880-48d1-9eae-28aeb8399a9d/jupyter_notebook_config.py --NotebookApp.iopub_data_rate_limit=10000000000.0. \n",
      "View Jupyter <a href='command:jupyter.viewOutput'>log</a> for further details."
     ]
    }
   ],
   "source": [
    "vis.plot_heatmap(\"IA_FullStat\")"
   ]
  },
  {
   "cell_type": "markdown",
   "metadata": {},
   "source": [
    "#### Plot 3D "
   ]
  },
  {
   "cell_type": "code",
   "execution_count": null,
   "metadata": {},
   "outputs": [],
   "source": [
    "vis.plot_3d()"
   ]
  }
 ],
 "metadata": {
  "kernelspec": {
   "display_name": "Python 3.10.5 ('data_engineering')",
   "language": "python",
   "name": "python3"
  },
  "language_info": {
   "codemirror_mode": {
    "name": "ipython",
    "version": 3
   },
   "file_extension": ".py",
   "mimetype": "text/x-python",
   "name": "python",
   "nbconvert_exporter": "python",
   "pygments_lexer": "ipython3",
   "version": "3.10.5"
  },
  "orig_nbformat": 4,
  "vscode": {
   "interpreter": {
    "hash": "9de2cd8f42cb32e2542cbb467491be9e65e63331d655f6c7b4afb5c7d97ef756"
   }
  }
 },
 "nbformat": 4,
 "nbformat_minor": 2
}
