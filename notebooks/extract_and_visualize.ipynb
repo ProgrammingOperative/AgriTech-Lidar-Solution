{
 "cells": [
  {
   "cell_type": "markdown",
   "metadata": {},
   "source": [
    "### FETCHING DATA WITH AgriTechLidar"
   ]
  },
  {
   "cell_type": "code",
   "execution_count": null,
   "metadata": {},
   "outputs": [
    {
     "ename": "",
     "evalue": "",
     "output_type": "error",
     "traceback": [
      "\u001b[1;31mFailed to start the Kernel. \n",
      "Traceback (most recent call last):\n",
      "  File \"/home/wacira/.vscode/extensions/ms-toolsai.jupyter-2022.5.1001601848/pythonFiles/vscode_datascience_helpers/jupyter_daemon.py\", line 158, in _start_notebook\n",
      "    from notebook import notebookapp as app\n",
      "  File \"/home/wacira/anaconda3/envs/data_engineering/lib/python3.10/site-packages/notebook/notebookapp.py\", line 43, in <module>\n",
      "    from jinja2 import Environment, FileSystemLoader\n",
      "  File \"/home/wacira/.local/lib/python3.10/site-packages/jinja2/__init__.py\", line 8, in <module>\n",
      "    from .environment import Environment as Environment\n",
      "  File \"/home/wacira/.local/lib/python3.10/site-packages/jinja2/environment.py\", line 14, in <module>\n",
      "    from markupsafe import Markup\n",
      "ModuleNotFoundError: No module named 'markupsafe'\n",
      "\n",
      "During handling of the above exception, another exception occurred:\n",
      "\n",
      "Traceback (most recent call last):\n",
      "  File \"/home/wacira/.vscode/extensions/ms-toolsai.jupyter-2022.5.1001601848/pythonFiles/vscode_datascience_helpers/daemon/daemon_python.py\", line 54, in _decorator\n",
      "    return func(self, *args, **kwargs)\n",
      "  File \"/home/wacira/.vscode/extensions/ms-toolsai.jupyter-2022.5.1001601848/pythonFiles/vscode_datascience_helpers/jupyter_daemon.py\", line 111, in m_exec_module_observable\n",
      "    self._start_notebook(args, cwd, env)\n",
      "  File \"/home/wacira/.vscode/extensions/ms-toolsai.jupyter-2022.5.1001601848/pythonFiles/vscode_datascience_helpers/jupyter_daemon.py\", line 160, in _start_notebook\n",
      "    from notebook import app as app\n",
      "ImportError: cannot import name 'app' from 'notebook' (/home/wacira/anaconda3/envs/data_engineering/lib/python3.10/site-packages/notebook/__init__.py)\n",
      "\n",
      "Failed to run jupyter as observable with args notebook --no-browser --notebook-dir=\"/home/wacira/10 Academy/week 7/Github/AgriTech-Lidar-Solution/notebooks\" --config=/tmp/612d0457-8a97-4eba-ba14-a21b02031e9f/jupyter_notebook_config.py --NotebookApp.iopub_data_rate_limit=10000000000.0. \n",
      "View Jupyter <a href='command:jupyter.viewOutput'>log</a> for further details."
     ]
    }
   ],
   "source": [
    "sys.path.append(os.path.abspath(os.path.join('../scripts')))"
   ]
  },
  {
   "cell_type": "code",
   "execution_count": null,
   "metadata": {},
   "outputs": [],
   "source": [
    "from agritechlidar import AgriTechLidar"
   ]
  },
  {
   "cell_type": "code",
   "execution_count": null,
   "metadata": {},
   "outputs": [
    {
     "ename": "",
     "evalue": "",
     "output_type": "error",
     "traceback": [
      "\u001b[1;31mFailed to start the Kernel. \n",
      "Traceback (most recent call last):\n",
      "  File \"/home/wacira/.vscode/extensions/ms-toolsai.jupyter-2022.5.1001601848/pythonFiles/vscode_datascience_helpers/jupyter_daemon.py\", line 158, in _start_notebook\n",
      "    from notebook import notebookapp as app\n",
      "  File \"/home/wacira/anaconda3/envs/data_engineering/lib/python3.10/site-packages/notebook/notebookapp.py\", line 43, in <module>\n",
      "    from jinja2 import Environment, FileSystemLoader\n",
      "  File \"/home/wacira/.local/lib/python3.10/site-packages/jinja2/__init__.py\", line 8, in <module>\n",
      "    from .environment import Environment as Environment\n",
      "  File \"/home/wacira/.local/lib/python3.10/site-packages/jinja2/environment.py\", line 14, in <module>\n",
      "    from markupsafe import Markup\n",
      "ModuleNotFoundError: No module named 'markupsafe'\n",
      "\n",
      "During handling of the above exception, another exception occurred:\n",
      "\n",
      "Traceback (most recent call last):\n",
      "  File \"/home/wacira/.vscode/extensions/ms-toolsai.jupyter-2022.5.1001601848/pythonFiles/vscode_datascience_helpers/daemon/daemon_python.py\", line 54, in _decorator\n",
      "    return func(self, *args, **kwargs)\n",
      "  File \"/home/wacira/.vscode/extensions/ms-toolsai.jupyter-2022.5.1001601848/pythonFiles/vscode_datascience_helpers/jupyter_daemon.py\", line 111, in m_exec_module_observable\n",
      "    self._start_notebook(args, cwd, env)\n",
      "  File \"/home/wacira/.vscode/extensions/ms-toolsai.jupyter-2022.5.1001601848/pythonFiles/vscode_datascience_helpers/jupyter_daemon.py\", line 160, in _start_notebook\n",
      "    from notebook import app as app\n",
      "ImportError: cannot import name 'app' from 'notebook' (/home/wacira/anaconda3/envs/data_engineering/lib/python3.10/site-packages/notebook/__init__.py)\n",
      "\n",
      "Failed to run jupyter as observable with args notebook --no-browser --notebook-dir=\"/home/wacira/10 Academy/week 7/Github/AgriTech-Lidar-Solution/notebooks\" --config=/tmp/4ba31abe-4cfd-46ed-9c7c-acf7a3cbfc54/jupyter_notebook_config.py --NotebookApp.iopub_data_rate_limit=10000000000.0. \n",
      "View Jupyter <a href='command:jupyter.viewOutput'>log</a> for further details."
     ]
    }
   ],
   "source": [
    "import matplotlib.pyplot as plt\n",
    "from shapely.geometry import Polygon"
   ]
  },
  {
   "cell_type": "markdown",
   "metadata": {},
   "source": [
    "#### Initialize package class with the required spatial reference system"
   ]
  },
  {
   "cell_type": "code",
   "execution_count": null,
   "metadata": {},
   "outputs": [],
   "source": [
    "pl = AgriTechLidar(epsg=4326)"
   ]
  },
  {
   "cell_type": "markdown",
   "metadata": {},
   "source": [
    "#### Fetch data"
   ]
  },
  {
   "cell_type": "code",
   "execution_count": null,
   "metadata": {},
   "outputs": [],
   "source": [
    "MINX, MINY, MAXX, MAXY = [-93.756155, 41.918015, -93.747334, 41.921429]\n",
    "polygon = Polygon(((MINX, MINY), (MINX, MAXY), (MAXX, MAXY), (MAXX, MINY), (MINX, MINY)))"
   ]
  },
  {
   "cell_type": "code",
   "execution_count": null,
   "metadata": {},
   "outputs": [],
   "source": [
    "#Return the geopandas dataframe consisting of geometric points and elavation\n",
    "gdf = pl.fetch_lidar(polygon, [\"IA_FullState\"])\n",
    "gdf"
   ]
  },
  {
   "cell_type": "markdown",
   "metadata": {},
   "source": [
    "#### Data Visualization"
   ]
  },
  {
   "cell_type": "code",
   "execution_count": null,
   "metadata": {},
   "outputs": [
    {
     "ename": "",
     "evalue": "",
     "output_type": "error",
     "traceback": [
      "\u001b[1;31mFailed to start the Kernel. \n",
      "Traceback (most recent call last):\n",
      "  File \"/home/wacira/.vscode/extensions/ms-toolsai.jupyter-2022.5.1001601848/pythonFiles/vscode_datascience_helpers/jupyter_daemon.py\", line 158, in _start_notebook\n",
      "    from notebook import notebookapp as app\n",
      "  File \"/home/wacira/anaconda3/envs/data_engineering/lib/python3.10/site-packages/notebook/notebookapp.py\", line 43, in <module>\n",
      "    from jinja2 import Environment, FileSystemLoader\n",
      "  File \"/home/wacira/.local/lib/python3.10/site-packages/jinja2/__init__.py\", line 8, in <module>\n",
      "    from .environment import Environment as Environment\n",
      "  File \"/home/wacira/.local/lib/python3.10/site-packages/jinja2/environment.py\", line 14, in <module>\n",
      "    from markupsafe import Markup\n",
      "ModuleNotFoundError: No module named 'markupsafe'\n",
      "\n",
      "During handling of the above exception, another exception occurred:\n",
      "\n",
      "Traceback (most recent call last):\n",
      "  File \"/home/wacira/.vscode/extensions/ms-toolsai.jupyter-2022.5.1001601848/pythonFiles/vscode_datascience_helpers/daemon/daemon_python.py\", line 54, in _decorator\n",
      "    return func(self, *args, **kwargs)\n",
      "  File \"/home/wacira/.vscode/extensions/ms-toolsai.jupyter-2022.5.1001601848/pythonFiles/vscode_datascience_helpers/jupyter_daemon.py\", line 111, in m_exec_module_observable\n",
      "    self._start_notebook(args, cwd, env)\n",
      "  File \"/home/wacira/.vscode/extensions/ms-toolsai.jupyter-2022.5.1001601848/pythonFiles/vscode_datascience_helpers/jupyter_daemon.py\", line 160, in _start_notebook\n",
      "    from notebook import app as app\n",
      "ImportError: cannot import name 'app' from 'notebook' (/home/wacira/anaconda3/envs/data_engineering/lib/python3.10/site-packages/notebook/__init__.py)\n",
      "\n",
      "Failed to run jupyter as observable with args notebook --no-browser --notebook-dir=\"/home/wacira/10 Academy/week 7/Github/AgriTech-Lidar-Solution/notebooks\" --config=/tmp/46188340-3e5f-4537-8257-a1eebdd1cbb4/jupyter_notebook_config.py --NotebookApp.iopub_data_rate_limit=10000000000.0. \n",
      "View Jupyter <a href='command:jupyter.viewOutput'>log</a> for further details."
     ]
    }
   ],
   "source": [
    "## Instantiate a visualization object\n",
    "df = gdf['geo_data']\n",
    "vis = pl.render_vis(df)"
   ]
  },
  {
   "cell_type": "markdown",
   "metadata": {},
   "source": [
    "#### Plot heatmap"
   ]
  },
  {
   "cell_type": "code",
   "execution_count": null,
   "metadata": {},
   "outputs": [
    {
     "ename": "",
     "evalue": "",
     "output_type": "error",
     "traceback": [
      "\u001b[1;31mFailed to start the Kernel. \n",
      "Traceback (most recent call last):\n",
      "  File \"/home/wacira/.vscode/extensions/ms-toolsai.jupyter-2022.5.1001601848/pythonFiles/vscode_datascience_helpers/jupyter_daemon.py\", line 158, in _start_notebook\n",
      "    from notebook import notebookapp as app\n",
      "  File \"/home/wacira/anaconda3/envs/data_engineering/lib/python3.10/site-packages/notebook/notebookapp.py\", line 43, in <module>\n",
      "    from jinja2 import Environment, FileSystemLoader\n",
      "  File \"/home/wacira/.local/lib/python3.10/site-packages/jinja2/__init__.py\", line 8, in <module>\n",
      "    from .environment import Environment as Environment\n",
      "  File \"/home/wacira/.local/lib/python3.10/site-packages/jinja2/environment.py\", line 14, in <module>\n",
      "    from markupsafe import Markup\n",
      "ModuleNotFoundError: No module named 'markupsafe'\n",
      "\n",
      "During handling of the above exception, another exception occurred:\n",
      "\n",
      "Traceback (most recent call last):\n",
      "  File \"/home/wacira/.vscode/extensions/ms-toolsai.jupyter-2022.5.1001601848/pythonFiles/vscode_datascience_helpers/daemon/daemon_python.py\", line 54, in _decorator\n",
      "    return func(self, *args, **kwargs)\n",
      "  File \"/home/wacira/.vscode/extensions/ms-toolsai.jupyter-2022.5.1001601848/pythonFiles/vscode_datascience_helpers/jupyter_daemon.py\", line 111, in m_exec_module_observable\n",
      "    self._start_notebook(args, cwd, env)\n",
      "  File \"/home/wacira/.vscode/extensions/ms-toolsai.jupyter-2022.5.1001601848/pythonFiles/vscode_datascience_helpers/jupyter_daemon.py\", line 160, in _start_notebook\n",
      "    from notebook import app as app\n",
      "ImportError: cannot import name 'app' from 'notebook' (/home/wacira/anaconda3/envs/data_engineering/lib/python3.10/site-packages/notebook/__init__.py)\n",
      "\n",
      "Failed to run jupyter as observable with args notebook --no-browser --notebook-dir=\"/home/wacira/10 Academy/week 7/Github/AgriTech-Lidar-Solution/notebooks\" --config=/tmp/83c746ac-2880-48d1-9eae-28aeb8399a9d/jupyter_notebook_config.py --NotebookApp.iopub_data_rate_limit=10000000000.0. \n",
      "View Jupyter <a href='command:jupyter.viewOutput'>log</a> for further details."
     ]
    }
   ],
   "source": [
    "vis.plot_heatmap(\"IA_FullStat\")"
   ]
  },
  {
   "cell_type": "markdown",
   "metadata": {},
   "source": [
    "#### Plot 3D "
   ]
  },
  {
   "cell_type": "code",
   "execution_count": null,
   "metadata": {},
   "outputs": [],
   "source": [
    "vis.plot_3d()"
   ]
  }
 ],
 "metadata": {
  "kernelspec": {
   "display_name": "Python 3.10.5 ('data_engineering')",
   "language": "python",
   "name": "python3"
  },
  "language_info": {
   "name": "python",
   "version": "3.10.5"
  },
  "orig_nbformat": 4,
  "vscode": {
   "interpreter": {
    "hash": "9de2cd8f42cb32e2542cbb467491be9e65e63331d655f6c7b4afb5c7d97ef756"
   }
  }
 },
 "nbformat": 4,
 "nbformat_minor": 2
}
